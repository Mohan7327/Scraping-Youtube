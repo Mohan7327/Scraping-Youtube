{
  "nbformat": 4,
  "nbformat_minor": 0,
  "metadata": {
    "colab": {
      "name": "Scraping Youtube with Python.ipynb",
      "provenance": []
    },
    "kernelspec": {
      "name": "python3",
      "display_name": "Python 3"
    },
    "language_info": {
      "name": "python"
    }
  },
  "cells": [
    {
      "cell_type": "code",
      "execution_count": 1,
      "metadata": {
        "colab": {
          "base_uri": "https://localhost:8080/"
        },
        "id": "JTiwr9qnx19e",
        "outputId": "240c1ea0-c9a3-4387-dbd2-8eb0b9ed791f"
      },
      "outputs": [
        {
          "output_type": "stream",
          "name": "stdout",
          "text": [
            "Collecting pytube\n",
            "  Downloading pytube-12.0.0-py3-none-any.whl (56 kB)\n",
            "\u001b[?25l\r\u001b[K     |█████▉                          | 10 kB 39.2 MB/s eta 0:00:01\r\u001b[K     |███████████▋                    | 20 kB 21.9 MB/s eta 0:00:01\r\u001b[K     |█████████████████▍              | 30 kB 19.2 MB/s eta 0:00:01\r\u001b[K     |███████████████████████▏        | 40 kB 16.4 MB/s eta 0:00:01\r\u001b[K     |█████████████████████████████   | 51 kB 16.2 MB/s eta 0:00:01\r\u001b[K     |████████████████████████████████| 56 kB 3.9 MB/s \n",
            "\u001b[?25hInstalling collected packages: pytube\n",
            "Successfully installed pytube-12.0.0\n"
          ]
        }
      ],
      "source": [
        "!pip install pytube"
      ]
    },
    {
      "cell_type": "code",
      "source": [
        "from pytube import YouTube"
      ],
      "metadata": {
        "id": "o2rYEDI_ySAr"
      },
      "execution_count": 3,
      "outputs": []
    },
    {
      "cell_type": "code",
      "source": [
        "link = input('Enter link of youtube video:')\n",
        "yt=YouTube(link)"
      ],
      "metadata": {
        "colab": {
          "base_uri": "https://localhost:8080/"
        },
        "id": "ylSZpkxhyVtD",
        "outputId": "f56d3a5b-79a8-4113-fae9-f843ec6b3ca9"
      },
      "execution_count": 4,
      "outputs": [
        {
          "name": "stdout",
          "output_type": "stream",
          "text": [
            "Enter link of youtube video:https://www.youtube.com/watch?v=-sJ86OBGZLk\n"
          ]
        }
      ]
    },
    {
      "cell_type": "code",
      "source": [
        "print('Title : ',yt.title)\n",
        "print('Views : ',yt.views)\n",
        "print('Duration : ',yt.length)\n",
        "print('Description : ',yt.description)\n",
        "print('Rating : ',yt.rating)"
      ],
      "metadata": {
        "colab": {
          "base_uri": "https://localhost:8080/"
        },
        "id": "1LSG2egtypld",
        "outputId": "61d736f7-6b2a-437e-cc60-043346ce384c"
      },
      "execution_count": 7,
      "outputs": [
        {
          "output_type": "stream",
          "name": "stdout",
          "text": [
            "Title :  How to make Evaporator & condenser fin coil\n",
            "Views :  2731\n",
            "Duration :  13\n",
            "Description :  Produce Cold room Evaporator fin & cold room condenser fin coil\n",
            "\n",
            "www.chinatechco.com\n",
            "E-mail: info@chinatechco.com\n",
            "Whats App:0086 15952606481\n",
            "Tel:0086 1595606481\n",
            "Skype: alanrefrigeration \n",
            "Wechat:15952606481\n",
            "QQ:304396902\n",
            "Rating :  None\n"
          ]
        }
      ]
    },
    {
      "cell_type": "code",
      "source": [
        "stream = yt.streams.get_highest_resolution()\n",
        "stream.download()\n",
        "print('Download Completed')"
      ],
      "metadata": {
        "colab": {
          "base_uri": "https://localhost:8080/"
        },
        "id": "KZVhL8lYzqOO",
        "outputId": "ec84761a-c033-4936-f355-5d1ac8284411"
      },
      "execution_count": 8,
      "outputs": [
        {
          "output_type": "stream",
          "name": "stdout",
          "text": [
            "Download Comleted\n"
          ]
        }
      ]
    }
  ]
}